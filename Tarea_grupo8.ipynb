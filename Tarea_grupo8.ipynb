{
  "nbformat": 4,
  "nbformat_minor": 0,
  "metadata": {
    "colab": {
      "name": "Tarea.grupo8",
      "provenance": [],
      "collapsed_sections": [],
      "include_colab_link": true
    },
    "kernelspec": {
      "name": "python3",
      "display_name": "Python 3"
    },
    "language_info": {
      "name": "python"
    }
  },
  "cells": [
    {
      "cell_type": "markdown",
      "metadata": {
        "id": "view-in-github",
        "colab_type": "text"
      },
      "source": [
        "<a href=\"https://colab.research.google.com/github/SebaSArteag0304/AED-20212/blob/main/Tarea_grupo8.ipynb\" target=\"_parent\"><img src=\"https://colab.research.google.com/assets/colab-badge.svg\" alt=\"Open In Colab\"/></a>"
      ]
    },
    {
      "cell_type": "markdown",
      "metadata": {
        "id": "NPUyEqZjlTq2"
      },
      "source": [
        "\n",
        "##Tarea Académica:\n",
        "#insertar inicio (ok)\n",
        "#insertar en posicion (ok)\n",
        "#eliminar inicio (ok)\n",
        "#eliminar en posicion (a medias)\n",
        "#recuperar en posicion (ok)\n",
        "#invertir lista\n",
        "#rotar \"n\" posiciones"
      ]
    },
    {
      "cell_type": "code",
      "metadata": {
        "colab": {
          "base_uri": "https://localhost:8080/"
        },
        "id": "7RIYhe2r4BTq",
        "outputId": "6d7f10f1-79c7-4542-b705-7457b4a6cb86"
      },
      "source": [
        "%%writefile TA5.cpp\n",
        "#include <iostream>\n",
        "using namespace std;\n",
        "template <typename G>\n",
        "struct Nodo\n",
        "{\n",
        "    G valor;\n",
        "    Nodo<G>* sig;\n",
        "    Nodo(G v, Nodo* s=nullptr){valor=v;sig=s;}    \n",
        "};\n",
        "\n",
        "template <class G>\n",
        "\n",
        "class Lista\n",
        "{\n",
        "    Nodo<G>* inicio;\n",
        "    Nodo<G>* fin;\n",
        "    unsigned long cantidad;\n",
        "    public:\n",
        "\n",
        "    Lista()\n",
        "    {\n",
        "        inicio=fin=nullptr;//como lista vacia\n",
        "        \n",
        "        cantidad=0;\n",
        "    } \n",
        "\n",
        "    void push_front(G valor)\n",
        "    {                                                                             \n",
        "        Nodo<G>* nuevo=new Nodo<G>(valor);\n",
        "      if(cantidad==0)\n",
        "          fin=nuevo;      \n",
        "     else\n",
        "         nuevo->sig=inicio;        \n",
        "     inicio=nuevo;\n",
        "     ++cantidad;\n",
        "    }\n",
        " \n",
        "\n",
        "    void insert_pos(G valor, long pos) //Insertar en pos\n",
        "    {\n",
        "      //if(pos<0||pos>cantidad)return;\n",
        "     \n",
        "        if(pos<=0)\n",
        "            push_front(valor);\n",
        "        else if(pos>=cantidad)\n",
        "             push_back(valor);\n",
        "        else{\n",
        "            Nodo<G>* nuevo=new Nodo<G>(valor);\n",
        "            Nodo<G>* aux=inicio;\n",
        "             for(long i=0;i<pos-1;++i){\n",
        "                 aux=aux->sig;\n",
        "             }\n",
        "             nuevo->sig=aux->sig;\n",
        "             aux->sig=nuevo;\n",
        "             ++cantidad;\n",
        "        } \n",
        "    }\n",
        "\n",
        "    void delete_front() //Eliminar al inicio\n",
        "    {\n",
        "        Nodo<G>* aux;\n",
        "        if(cantidad==0)return;\n",
        "        else if(cantidad==1)\n",
        "        {\n",
        "            delete inicio;\n",
        "            inicio=fin=nullptr;\n",
        "            --cantidad;\n",
        "        }\n",
        "        else\n",
        "        {\n",
        "            aux=inicio;\n",
        "             inicio=inicio->sig; //aux->siguiente;\n",
        "             --cantidad;\n",
        "        }\n",
        "    }\n",
        "\n",
        "    void imprimir()\n",
        "    {\n",
        "    Nodo<G>* aux=inicio;\n",
        "    while(aux!=nullptr)\n",
        "    {\n",
        "        cout<<aux->valor<<\"-->\";\n",
        "        aux=aux->sig;\n",
        "    }\n",
        "    cout<<\"nullptr\\n\";\n",
        "    }\n",
        " \n",
        "    void recoverPos(int pos)\n",
        "    {\n",
        "      if (pos > cantidad&& pos<0) {\n",
        "        cout << \"\\nError!\\n\";\n",
        "      }\n",
        "    else {\n",
        "      Nodo<G>* aux = inicio;\n",
        "      for (int i = 1; i < pos; ++i)\n",
        "        aux = aux->sig;\n",
        "      cout << \"\\nEl valor de la posicion \" << pos << \" es: \" << aux->valor << \"\\n\";\n",
        "    }\n",
        "  }\n",
        "\n",
        "\n",
        "\n",
        "void eliminarenPos(int n)\n",
        "{\n",
        "\t  if(inicio != nullptr)\n",
        "\t  {\n",
        "\t  \tNodo<G>* aux_eliminar;\n",
        "\t  \tNodo<G>* anterior = nullptr;\n",
        "\t  \taux_eliminar = inicio;\n",
        "\n",
        "    while((aux_eliminar != nullptr) && (aux_eliminar->valor !=n))\n",
        "    {\n",
        "      anterior = aux_eliminar;\n",
        "      aux_eliminar = aux_eliminar->sig;\n",
        "    }\n",
        "\n",
        "      if(aux_eliminar==nullptr)\n",
        "      {\n",
        "        cout<<\"Error \";\n",
        "      }\n",
        "        else if(anterior==nullptr)\n",
        "        {\n",
        "          inicio=inicio->sig;\n",
        "          delete aux_eliminar;\n",
        "        }\n",
        "          else\n",
        "          {\n",
        "          anterior->sig=aux_eliminar->sig;\n",
        "          delete aux_eliminar;\n",
        "          }\n",
        "    }\n",
        "}\n",
        "\n",
        "\n",
        "};\n",
        "\n",
        "int main()\n",
        "{\n",
        "    int p=0;\n",
        "    Lista<int> ls;\n",
        "    for(int i=100;i>0;i=i-10)\n",
        "    {\n",
        "        ls.push_front(i);\n",
        "    }    \n",
        " \n",
        "     \n",
        "    ls.imprimir();\n",
        "    ls.delete_front();\n",
        "    cout<<endl;\n",
        "    ls.imprimir();\n",
        " \n",
        " \n",
        "    cout<<\"Escoja la posición a recuperar \"<<endl;\n",
        "    cin>>p;\n",
        "    ls.recoverPos(p);\n",
        "  \n",
        "\n",
        "int v=0;\n",
        " cout<<\"Escoga la posición a eliminar \"<<endl;\n",
        " cin>>v;\n",
        "  ls.eliminarenPos(v);\n",
        "  //ls.imprimir();\n",
        "\n",
        "}"
      ],
      "execution_count": null,
      "outputs": [
        {
          "output_type": "stream",
          "name": "stdout",
          "text": [
            "Writing TA5.cpp\n"
          ]
        }
      ]
    },
    {
      "cell_type": "code",
      "metadata": {
        "colab": {
          "base_uri": "https://localhost:8080/"
        },
        "id": "X8Dyfxji4Kn6",
        "outputId": "d728bc58-3aee-4918-f13f-d3060de9d2b1"
      },
      "source": [
        "!g++ --std=c++14 TA5.cpp && ./a.out"
      ],
      "execution_count": null,
      "outputs": [
        {
          "output_type": "stream",
          "name": "stdout",
          "text": [
            "10-->20-->30-->40-->50-->60-->70-->80-->90-->100-->nullptr\n",
            "\n",
            "20-->30-->40-->50-->60-->70-->80-->90-->100-->nullptr\n",
            "Escoja la posición a recuperar \n",
            "^C\n"
          ]
        }
      ]
    }
  ]
}